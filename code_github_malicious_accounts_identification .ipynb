{
 "cells": [
  {
   "cell_type": "code",
   "execution_count": 1,
   "id": "c6184305",
   "metadata": {},
   "outputs": [],
   "source": [
    "#Importing the library used\n",
    "import pandas as pd  #library used as a data analysis and manipulation tool\n",
    "import regex as re  #library specify the rules for the set of possible strings that you want to match\n",
    "from datetime import datetime  #module used to manipulate date and time"
   ]
  },
  {
   "cell_type": "code",
   "execution_count": 2,
   "id": "f20fca41",
   "metadata": {},
   "outputs": [],
   "source": [
    "#Reading the data file in python and naming it as variable log.\n",
    "log = pd.read_csv(\"C:/Users/singh/OneDrive/Desktop/Team Project/account_log_without_labels.csv\")"
   ]
  },
  {
   "cell_type": "code",
   "execution_count": 3,
   "id": "1b6469c5",
   "metadata": {},
   "outputs": [
    {
     "data": {
      "text/plain": [
       "(3844, 6)"
      ]
     },
     "execution_count": 3,
     "metadata": {},
     "output_type": "execute_result"
    }
   ],
   "source": [
    "#Cleaning and understanding data\n",
    "log.shape"
   ]
  },
  {
   "cell_type": "code",
   "execution_count": 4,
   "id": "6852e1c1",
   "metadata": {
    "scrolled": true
   },
   "outputs": [
    {
     "name": "stdout",
     "output_type": "stream",
     "text": [
      "<class 'pandas.core.frame.DataFrame'>\n",
      "RangeIndex: 3844 entries, 0 to 3843\n",
      "Data columns (total 6 columns):\n",
      " #   Column      Non-Null Count  Dtype \n",
      "---  ------      --------------  ----- \n",
      " 0   created_at  3844 non-null   object\n",
      " 1   account     3844 non-null   object\n",
      " 2   name        3788 non-null   object\n",
      " 3   location    3178 non-null   object\n",
      " 4   email       3844 non-null   object\n",
      " 5   ip_address  3826 non-null   object\n",
      "dtypes: object(6)\n",
      "memory usage: 180.3+ KB\n"
     ]
    }
   ],
   "source": [
    "#understanding data\n",
    "log.info()"
   ]
  },
  {
   "cell_type": "code",
   "execution_count": 5,
   "id": "ad6f0d8b",
   "metadata": {},
   "outputs": [
    {
     "data": {
      "text/html": [
       "<div>\n",
       "<style scoped>\n",
       "    .dataframe tbody tr th:only-of-type {\n",
       "        vertical-align: middle;\n",
       "    }\n",
       "\n",
       "    .dataframe tbody tr th {\n",
       "        vertical-align: top;\n",
       "    }\n",
       "\n",
       "    .dataframe thead th {\n",
       "        text-align: right;\n",
       "    }\n",
       "</style>\n",
       "<table border=\"1\" class=\"dataframe\">\n",
       "  <thead>\n",
       "    <tr style=\"text-align: right;\">\n",
       "      <th></th>\n",
       "      <th>count</th>\n",
       "      <th>unique</th>\n",
       "      <th>top</th>\n",
       "      <th>freq</th>\n",
       "    </tr>\n",
       "  </thead>\n",
       "  <tbody>\n",
       "    <tr>\n",
       "      <th>created_at</th>\n",
       "      <td>3844</td>\n",
       "      <td>3816</td>\n",
       "      <td>2021-11-12 11:51:50 UTC</td>\n",
       "      <td>2</td>\n",
       "    </tr>\n",
       "    <tr>\n",
       "      <th>account</th>\n",
       "      <td>3844</td>\n",
       "      <td>3808</td>\n",
       "      <td>lacinia_sapien</td>\n",
       "      <td>3</td>\n",
       "    </tr>\n",
       "    <tr>\n",
       "      <th>name</th>\n",
       "      <td>3788</td>\n",
       "      <td>3760</td>\n",
       "      <td>Sergey</td>\n",
       "      <td>3</td>\n",
       "    </tr>\n",
       "    <tr>\n",
       "      <th>location</th>\n",
       "      <td>3178</td>\n",
       "      <td>1658</td>\n",
       "      <td>Manchester, United Kingdom</td>\n",
       "      <td>101</td>\n",
       "    </tr>\n",
       "    <tr>\n",
       "      <th>email</th>\n",
       "      <td>3844</td>\n",
       "      <td>3839</td>\n",
       "      <td>paddy.byers@gmail.com</td>\n",
       "      <td>2</td>\n",
       "    </tr>\n",
       "    <tr>\n",
       "      <th>ip_address</th>\n",
       "      <td>3826</td>\n",
       "      <td>3227</td>\n",
       "      <td>24.176.0.93</td>\n",
       "      <td>100</td>\n",
       "    </tr>\n",
       "  </tbody>\n",
       "</table>\n",
       "</div>"
      ],
      "text/plain": [
       "           count unique                         top freq\n",
       "created_at  3844   3816     2021-11-12 11:51:50 UTC    2\n",
       "account     3844   3808              lacinia_sapien    3\n",
       "name        3788   3760                      Sergey    3\n",
       "location    3178   1658  Manchester, United Kingdom  101\n",
       "email       3844   3839       paddy.byers@gmail.com    2\n",
       "ip_address  3826   3227                 24.176.0.93  100"
      ]
     },
     "execution_count": 5,
     "metadata": {},
     "output_type": "execute_result"
    }
   ],
   "source": [
    "#Overview of missing values\n",
    "log.describe().transpose()"
   ]
  },
  {
   "cell_type": "code",
   "execution_count": 6,
   "id": "7d8a9383",
   "metadata": {},
   "outputs": [],
   "source": [
    "#casting a pandas object to a specified data type.\n",
    "log['name']=log['name'].astype(str) #to use re library\n"
   ]
  },
  {
   "cell_type": "code",
   "execution_count": 7,
   "id": "f089a21f",
   "metadata": {},
   "outputs": [],
   "source": [
    "#Creating columns in data. \n",
    "log['malicious_account_1']=\"\" #validated names column\n",
    "log['campaign_1']=\"\"          #trends/campaign name for malicious_account_1\n",
    "log['malicious_account_2']=\"\" #validated email id column\n",
    "log['campaign_2']=\"\"          #trends/campaigns name for malicious_account_2\n",
    "log['malicious_account_3']=\"\" #validated location column\n",
    "log['campaign_3']=\"\"          #trends/campaigns name for malicious_account_3\n",
    "log['malicious_account_4']=\"\" #validated the time occurance of same ip_addres\n",
    "log['campaign_4']=\"\"          #trends/campaign name for malicious_account_4\n",
    "log['validate_email']=\" \"   #validating email in terms of boolean\n",
    "log['malicious_account_5']=\"\" #validated the duplicate email address\n",
    "log['campaign_5']=\"\"          #trends/campaign name for malicious_account_5\n",
    "log['malicious_account_final']=\"\" #This column will contain the final data where we will sepcify if the account is malicious or not\n",
    "log['campaign_final']=\"\"          #This column will contain the final data where we will sepcify if the trends/campiagns noticed in the accounts which are considered malicious"
   ]
  },
  {
   "cell_type": "code",
   "execution_count": 8,
   "id": "8fa0d254",
   "metadata": {},
   "outputs": [],
   "source": [
    "pd.options.mode.chained_assignment = None  # default='warn'"
   ]
  },
  {
   "cell_type": "code",
   "execution_count": 9,
   "id": "fa41f90c",
   "metadata": {},
   "outputs": [],
   "source": [
    "#Validating names.\n",
    "for ind in log.index: \n",
    "    if re.sub(\"[' ,.-]\",\"\",log['name'][ind]).isalpha(): # used the isalpha function and some common symbols\n",
    "        log['malicious_account_1'][ind]='False'\n",
    "    else:\n",
    "        log['malicious_account_1'][ind]='True' \n",
    "        log['campaign_1'][ind] = 'invalid name'\n",
    "        \n",
    "    if log['name'][ind]=='nan':\n",
    "        log['campaign_1'][ind] = 'missing name'"
   ]
  },
  {
   "cell_type": "code",
   "execution_count": 10,
   "id": "235494bb",
   "metadata": {},
   "outputs": [],
   "source": [
    "#calling module for validating email\n",
    "from validate_email import validate_email"
   ]
  },
  {
   "cell_type": "code",
   "execution_count": 11,
   "id": "b3280b9c",
   "metadata": {},
   "outputs": [],
   "source": [
    "#validating email Id\n",
    "log['validate_email'] = log['email'].apply(lambda x:validate_email(x)) #using lambda function, the result is reflected in validate_email column"
   ]
  },
  {
   "cell_type": "code",
   "execution_count": 12,
   "id": "71c5116c",
   "metadata": {},
   "outputs": [
    {
     "data": {
      "text/plain": [
       "False    3787\n",
       "True       57\n",
       "Name: malicious_account_2, dtype: int64"
      ]
     },
     "execution_count": 12,
     "metadata": {},
     "output_type": "execute_result"
    }
   ],
   "source": [
    "# The email is validated in boolean values in column validate_email. Below is the code to determine if the account created is malicious or not using the email validationas base\n",
    "def malicious_account_2(element):\n",
    "    if element[\"validate_email\"] == True:\n",
    "        return 'False'\n",
    "    else:\n",
    "        return \"True\"\n",
    "     \n",
    "\n",
    "log['malicious_account_2'] = log.apply(lambda element: malicious_account_2(element), axis=1)\n",
    "log['malicious_account_2'].value_counts()"
   ]
  },
  {
   "cell_type": "code",
   "execution_count": 13,
   "id": "717a89a3",
   "metadata": {},
   "outputs": [
    {
     "data": {
      "text/plain": [
       "invalid email    57\n",
       "Name: campaign_2, dtype: int64"
      ]
     },
     "execution_count": 13,
     "metadata": {},
     "output_type": "execute_result"
    }
   ],
   "source": [
    "# The email is validated in boolean values in column validate_email. Below is the code to allot a campaign name to invalid email\n",
    "def campaign_2(element):\n",
    "    if element[\"validate_email\"] == False:\n",
    "        return \"invalid email\"\n",
    "     \n",
    "\n",
    "log['campaign_2'] = log.apply(lambda element: campaign_2(element), axis=1)\n",
    "log['campaign_2'].value_counts()"
   ]
  },
  {
   "cell_type": "code",
   "execution_count": 14,
   "id": "9750e0a9",
   "metadata": {},
   "outputs": [],
   "source": [
    "#Using ASCII code for python. Creating dictionary of ASCII code.\n",
    "thesis={39:\"\",40:\"\",32:\"\",41:\"\",44:\"\",45:\"\",46:\"\",47:\"\",38:\"\",124:\"\",33:\"\",8216:\"\",8217:\"\",58:\"\"}\n",
    "#following each code means 39:', 40:(, 32:SPACE, 41:), 44:, ,45: -, 46:. , 47:/ , 124:|, 33:!, 38:&, 58-:, 8216:'‘', 8217:'’'"
   ]
  },
  {
   "cell_type": "code",
   "execution_count": 15,
   "id": "d150891e",
   "metadata": {},
   "outputs": [],
   "source": [
    "#Validating location\n",
    "for ind in log.index:\n",
    "    \n",
    "    if not pd.isna(log['location'][ind]):\n",
    "        if log['location'][ind].translate(thesis).isalnum(): #using thesis dictionary and isalnum function\n",
    "            log['malicious_account_3'][ind]='False'\n",
    "        else:\n",
    "            log['malicious_account_3'][ind]='True' \n",
    "            log['campaign_3'][ind] = 'Invalid location'\n",
    "    else:\n",
    "        log['campaign_3'][ind]='Missing location'"
   ]
  },
  {
   "cell_type": "code",
   "execution_count": 16,
   "id": "cdd3e5b8",
   "metadata": {},
   "outputs": [],
   "source": [
    "#Counting no. of times email is used\n",
    "\n",
    "counts_of_email = log[\"email\"].value_counts()\n",
    "counts_of_email = counts_of_email.to_dict()\n",
    "log[\"counts_of_email\"] = log[\"email\"].map(counts_of_email)"
   ]
  },
  {
   "cell_type": "code",
   "execution_count": 17,
   "id": "5cd77e58",
   "metadata": {},
   "outputs": [
    {
     "data": {
      "text/plain": [
       "False    3834\n",
       "True       10\n",
       "Name: malicious_account_5, dtype: int64"
      ]
     },
     "execution_count": 17,
     "metadata": {},
     "output_type": "execute_result"
    }
   ],
   "source": [
    "def email(each):\n",
    "    if each[\"counts_of_email\"] > 1:\n",
    "        return 'True'\n",
    "    return 'False'\n",
    "\n",
    "\n",
    "log['malicious_account_5'] = log.apply(lambda each: email(each), axis=1)\n",
    "log['malicious_account_5'].value_counts()"
   ]
  },
  {
   "cell_type": "code",
   "execution_count": 18,
   "id": "90212639",
   "metadata": {},
   "outputs": [
    {
     "data": {
      "text/plain": [
       "Repeated use of Email    10\n",
       "Name: campaign_5, dtype: int64"
      ]
     },
     "execution_count": 18,
     "metadata": {},
     "output_type": "execute_result"
    }
   ],
   "source": [
    "def campaign_5(element):\n",
    "    if element[\"malicious_account_5\"] == 'True':\n",
    "        return \"Repeated use of Email\"\n",
    "     \n",
    "\n",
    "log['campaign_5'] = log.apply(lambda element: campaign_5(element), axis=1)\n",
    "log['campaign_5'].value_counts()"
   ]
  },
  {
   "cell_type": "code",
   "execution_count": 19,
   "id": "3c1c922a",
   "metadata": {},
   "outputs": [],
   "source": [
    "#Creating  list of IP addresses\n",
    "list_of_IPs = []\n",
    "\n",
    "#Ccreating 'dict' fot IP addresses\n",
    "IP_dict = dict()\n",
    "\n",
    "for ind in log.index:\n",
    "    IP_Address=log['ip_address'][ind]  #assigning variable \n",
    "    time_of_creation = log['created_at'][ind]\n",
    "    \n",
    "    if not pd.isna(IP_Address): #if Ip address is non empty\n",
    "        \n",
    "        if IP_Address in IP_dict: \n",
    "            if IP_Address in list_of_IPs:\n",
    "                first_instance = datetime.strptime(time_of_creation.replace(\" UTC\", \"\"), \"%Y-%m-%d %H:%M:%S\") \n",
    "                second_instance = datetime.strptime(IP_dict[IP_Address].replace(\" UTC\", \"\"), \"%Y-%m-%d %H:%M:%S\")\n",
    "    \n",
    "        #Validating time difference between similar IP addresses\n",
    "                Difference = abs((first_instance - second_instance).total_seconds() / 60)\n",
    "                IP_dict[IP_Address]=time_of_creation\n",
    "                if(Difference < 3.0):\n",
    "                    log['malicious_account_4'][ind] = 'True'\n",
    "                    log['campaign_4'][ind] = 'bot creation'\n",
    "            else:\n",
    "            \n",
    "                list_of_IPs.append(IP_Address)\n",
    "        else:\n",
    "            IP_dict[IP_Address]=time_of_creation\n",
    "    else:\n",
    "        log['campaign_4'][ind] = 'missing ip addresses'\n",
    "\n",
    "            \n",
    "    if not pd.isna(IP_Address):\n",
    "        IP_dict[IP_Address] = time_of_creation\n"
   ]
  },
  {
   "cell_type": "code",
   "execution_count": 20,
   "id": "4eb44c00",
   "metadata": {},
   "outputs": [
    {
     "data": {
      "text/plain": [
       "non_malicious_account    3607\n",
       "malicious_account         237\n",
       "Name: malicious_account_final, dtype: int64"
      ]
     },
     "execution_count": 20,
     "metadata": {},
     "output_type": "execute_result"
    }
   ],
   "source": [
    "#combining all maliciousaccount columsn to final malicious account\n",
    "def malicious_account(row):\n",
    "    if row[\"malicious_account_1\"] == 'True':\n",
    "        return 'malicious_account'\n",
    "    elif row[\"malicious_account_2\"] == 'True':\n",
    "        return 'malicious_account'\n",
    "    elif row[\"malicious_account_3\"] == 'True':\n",
    "        return 'malicious_account'\n",
    "    elif row[\"malicious_account_4\"] == 'True':\n",
    "        return 'malicious_account'\n",
    "    elif row[\"malicious_account_5\"] == 'True':\n",
    "        return 'malicious_account'\n",
    "    else:\n",
    "        return \"non_malicious_account\"\n",
    "\n",
    "log['malicious_account_final'] = log.apply(lambda row: malicious_account(row), axis=1)\n",
    "log['malicious_account_final'].value_counts()"
   ]
  },
  {
   "cell_type": "code",
   "execution_count": 21,
   "id": "c07f9ea6",
   "metadata": {},
   "outputs": [
    {
     "data": {
      "text/plain": [
       "None                     3607\n",
       "bot creation              131\n",
       "invalid_email              57\n",
       "invalid_name               34\n",
       "Repeated use of Email      10\n",
       "invalid_location            5\n",
       "Name: campaign_final, dtype: int64"
      ]
     },
     "execution_count": 21,
     "metadata": {},
     "output_type": "execute_result"
    }
   ],
   "source": [
    "#combining all campaign name column into final campaign column. \n",
    "#if any account comes under campaign name of invalid name or invalid location and also under invalid email or bot creation\n",
    "#we have considered such account in campaign of bot creation or invalid email as name and location was optional and email was mandatory and ip address was automated.\n",
    "def campaign(row):\n",
    "    if row[\"campaign_2\"] == 'invalid email':\n",
    "        return 'invalid_email'\n",
    "    elif row[\"campaign_4\"] == 'bot creation':\n",
    "        return 'bot creation'\n",
    "    elif row[\"campaign_5\"] == 'Repeated use of Email':\n",
    "        return 'Repeated use of Email'\n",
    "    elif row[\"campaign_1\"] == 'invalid name':\n",
    "        return 'invalid_name'\n",
    "    elif row[\"campaign_3\"] == 'Invalid location':\n",
    "        return 'invalid_location'\n",
    "    else:\n",
    "        return \"None\"\n",
    "\n",
    "log['campaign_final'] = log.apply(lambda row: campaign(row), axis=1)\n",
    "log['campaign_final'].value_counts()"
   ]
  },
  {
   "cell_type": "code",
   "execution_count": 22,
   "id": "bc171adb",
   "metadata": {},
   "outputs": [],
   "source": [
    "log.to_csv(\"C:/Users/singh/OneDrive/Desktop/Team Project/account_log_without_labels.csv\")"
   ]
  },
  {
   "cell_type": "code",
   "execution_count": 23,
   "id": "e13b7f76",
   "metadata": {},
   "outputs": [
    {
     "data": {
      "text/plain": [
       "non_malicious_account    3607\n",
       "malicious_account         237\n",
       "Name: malicious_account_final, dtype: int64"
      ]
     },
     "execution_count": 23,
     "metadata": {},
     "output_type": "execute_result"
    }
   ],
   "source": [
    "log['malicious_account_final'].value_counts()"
   ]
  },
  {
   "cell_type": "code",
   "execution_count": 24,
   "id": "9cc7cfb8",
   "metadata": {},
   "outputs": [
    {
     "data": {
      "text/plain": [
       "None                     3607\n",
       "bot creation              131\n",
       "invalid_email              57\n",
       "invalid_name               34\n",
       "Repeated use of Email      10\n",
       "invalid_location            5\n",
       "Name: campaign_final, dtype: int64"
      ]
     },
     "execution_count": 24,
     "metadata": {},
     "output_type": "execute_result"
    }
   ],
   "source": [
    "log['campaign_final'].value_counts()"
   ]
  },
  {
   "cell_type": "code",
   "execution_count": null,
   "id": "38df0809",
   "metadata": {},
   "outputs": [],
   "source": []
  }
 ],
 "metadata": {
  "kernelspec": {
   "display_name": "Python 3 (ipykernel)",
   "language": "python",
   "name": "python3"
  },
  "language_info": {
   "codemirror_mode": {
    "name": "ipython",
    "version": 3
   },
   "file_extension": ".py",
   "mimetype": "text/x-python",
   "name": "python",
   "nbconvert_exporter": "python",
   "pygments_lexer": "ipython3",
   "version": "3.9.12"
  }
 },
 "nbformat": 4,
 "nbformat_minor": 5
}
